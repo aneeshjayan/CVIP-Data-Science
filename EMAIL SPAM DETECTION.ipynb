{
 "cells": [
  {
   "cell_type": "markdown",
   "metadata": {},
   "source": [
    "**NORMAL TASK**\n",
    "**EMAIL SPAM DETECTION**"
   ]
  },
  {
   "cell_type": "markdown",
   "metadata": {},
   "source": [
    "**IMPORT LIBRARIES**"
   ]
  },
  {
   "cell_type": "code",
   "execution_count": 61,
   "metadata": {},
   "outputs": [],
   "source": [
    "#importing necessary libraries\n",
    "import numpy as np\n",
    "import pandas as pd\n",
    "import matplotlib.pyplot as plt\n",
    "import seaborn as sns\n",
    "from sklearn.feature_extraction.text import TfidfVectorizer\n",
    "import string\n",
    "from sklearn.model_selection import train_test_split\n",
    "from sklearn.feature_extraction.text import CountVectorizer\n",
    "from sklearn.tree import DecisionTreeClassifier\n",
    "from sklearn.naive_bayes import MultinomialNB\n",
    "from sklearn.linear_model import LogisticRegression\n",
    "from sklearn.metrics import accuracy_score\n"
   ]
  },
  {
   "cell_type": "code",
   "execution_count": 4,
   "metadata": {},
   "outputs": [
    {
     "data": {
      "text/html": [
       "<div>\n",
       "<style scoped>\n",
       "    .dataframe tbody tr th:only-of-type {\n",
       "        vertical-align: middle;\n",
       "    }\n",
       "\n",
       "    .dataframe tbody tr th {\n",
       "        vertical-align: top;\n",
       "    }\n",
       "\n",
       "    .dataframe thead th {\n",
       "        text-align: right;\n",
       "    }\n",
       "</style>\n",
       "<table border=\"1\" class=\"dataframe\">\n",
       "  <thead>\n",
       "    <tr style=\"text-align: right;\">\n",
       "      <th></th>\n",
       "      <th>Category</th>\n",
       "      <th>Message</th>\n",
       "    </tr>\n",
       "  </thead>\n",
       "  <tbody>\n",
       "    <tr>\n",
       "      <th>0</th>\n",
       "      <td>ham</td>\n",
       "      <td>Go until jurong point, crazy.. Available only ...</td>\n",
       "    </tr>\n",
       "    <tr>\n",
       "      <th>1</th>\n",
       "      <td>ham</td>\n",
       "      <td>Ok lar... Joking wif u oni...</td>\n",
       "    </tr>\n",
       "    <tr>\n",
       "      <th>2</th>\n",
       "      <td>spam</td>\n",
       "      <td>Free entry in 2 a wkly comp to win FA Cup fina...</td>\n",
       "    </tr>\n",
       "    <tr>\n",
       "      <th>3</th>\n",
       "      <td>ham</td>\n",
       "      <td>U dun say so early hor... U c already then say...</td>\n",
       "    </tr>\n",
       "    <tr>\n",
       "      <th>4</th>\n",
       "      <td>ham</td>\n",
       "      <td>Nah I don't think he goes to usf, he lives aro...</td>\n",
       "    </tr>\n",
       "  </tbody>\n",
       "</table>\n",
       "</div>"
      ],
      "text/plain": [
       "  Category                                            Message\n",
       "0      ham  Go until jurong point, crazy.. Available only ...\n",
       "1      ham                      Ok lar... Joking wif u oni...\n",
       "2     spam  Free entry in 2 a wkly comp to win FA Cup fina...\n",
       "3      ham  U dun say so early hor... U c already then say...\n",
       "4      ham  Nah I don't think he goes to usf, he lives aro..."
      ]
     },
     "execution_count": 4,
     "metadata": {},
     "output_type": "execute_result"
    }
   ],
   "source": [
    "# Import the pandas library and read the breast cancer data from a CSV file.\n",
    "df = pd.read_csv(\"C:/Users/Admin/Downloads/spam.csv\",header = 0)\n",
    "# Display the first 5 rows of the DataFrame.\n",
    "df.head()"
   ]
  },
  {
   "cell_type": "code",
   "execution_count": 16,
   "metadata": {},
   "outputs": [
    {
     "data": {
      "text/plain": [
       "(5572, 2)"
      ]
     },
     "execution_count": 16,
     "metadata": {},
     "output_type": "execute_result"
    }
   ],
   "source": [
    "df.shape"
   ]
  },
  {
   "cell_type": "code",
   "execution_count": 17,
   "metadata": {},
   "outputs": [
    {
     "data": {
      "text/plain": [
       "Index(['Category', 'Message'], dtype='object')"
      ]
     },
     "execution_count": 17,
     "metadata": {},
     "output_type": "execute_result"
    }
   ],
   "source": [
    "df.columns"
   ]
  },
  {
   "cell_type": "markdown",
   "metadata": {},
   "source": [
    "SPAM--> 0\n",
    "HAM --> 1"
   ]
  },
  {
   "cell_type": "markdown",
   "metadata": {},
   "source": [
    "**DATA VISUALIZATION**"
   ]
  },
  {
   "cell_type": "code",
   "execution_count": 75,
   "metadata": {},
   "outputs": [
    {
     "data": {
      "image/png": "[encoded data removed]",
      "text/plain": [
       "<Figure size 640x480 with 1 Axes>"
      ]
     },
     "metadata": {},
     "output_type": "display_data"
    }
   ],
   "source": [
    "# histogram plot\n",
    "plt.hist(df['Category'])\n",
    "plt.xlabel('spam or ham')\n",
    "plt.ylabel('Values')\n",
    "plt.show()\n"
   ]
  },
  {
   "cell_type": "markdown",
   "metadata": {},
   "source": [
    "**DATA PREPROCESSING**"
   ]
  },
  {
   "cell_type": "code",
   "execution_count": 18,
   "metadata": {},
   "outputs": [],
   "source": [
    "df.drop_duplicates(inplace=True)"
   ]
  },
  {
   "cell_type": "code",
   "execution_count": 19,
   "metadata": {},
   "outputs": [
    {
     "data": {
      "text/plain": [
       "(5157, 2)"
      ]
     },
     "execution_count": 19,
     "metadata": {},
     "output_type": "execute_result"
    }
   ],
   "source": [
    "df.shape"
   ]
  },
  {
   "cell_type": "code",
   "execution_count": 20,
   "metadata": {},
   "outputs": [
    {
     "data": {
      "text/plain": [
       "Category    0\n",
       "Message     0\n",
       "dtype: int64"
      ]
     },
     "execution_count": 20,
     "metadata": {},
     "output_type": "execute_result"
    }
   ],
   "source": [
    "df.isnull().sum()"
   ]
  },
  {
   "cell_type": "code",
   "execution_count": 23,
   "metadata": {},
   "outputs": [],
   "source": [
    "# label spam mail as 0;  ham mail as 1;\n",
    "\n",
    "df.loc[df['Category'] == 'spam', 'Category',] = 0\n",
    "df.loc[df['Category'] == 'ham', 'Category',] = 1"
   ]
  },
  {
   "cell_type": "code",
   "execution_count": 26,
   "metadata": {},
   "outputs": [],
   "source": [
    "# separating the data as texts and label\n",
    "\n",
    "X = df['Message']\n",
    "\n",
    "Y = df['Category']"
   ]
  },
  {
   "cell_type": "code",
   "execution_count": 27,
   "metadata": {},
   "outputs": [],
   "source": [
    "X_train, X_test, Y_train, Y_test = train_test_split(X, Y, test_size=0.2, random_state=3)"
   ]
  },
  {
   "cell_type": "code",
   "execution_count": 28,
   "metadata": {},
   "outputs": [
    {
     "name": "stdout",
     "output_type": "stream",
     "text": [
      "(5157,)\n",
      "(4125,)\n",
      "(1032,)\n"
     ]
    }
   ],
   "source": [
    "print(X.shape)\n",
    "print(X_train.shape)\n",
    "print(X_test.shape)"
   ]
  },
  {
   "cell_type": "markdown",
   "metadata": {},
   "source": [
    "**TfidfVectorization**"
   ]
  },
  {
   "cell_type": "code",
   "execution_count": 36,
   "metadata": {},
   "outputs": [],
   "source": [
    "# transform the text data to feature vectors that can be used as input to the Logistic regression\n",
    "\n",
    "feature_extraction = TfidfVectorizer(min_df = 1, stop_words='english', lowercase=True)\n",
    "\n",
    "X_train_features = feature_extraction.fit_transform(X_train)\n",
    "X_test_features = feature_extraction.transform(X_test)\n",
    "\n",
    "# convert Y_train and Y_test values as integers\n",
    "\n",
    "Y_train = Y_train.astype('int')\n",
    "Y_test = Y_test.astype('int')"
   ]
  },
  {
   "cell_type": "code",
   "execution_count": 39,
   "metadata": {},
   "outputs": [
    {
     "name": "stdout",
     "output_type": "stream",
     "text": [
      "  (0, 6692)\t0.48303813512243965\n",
      "  (0, 6605)\t0.4898673616987752\n",
      "  (0, 1247)\t0.5538832733861689\n",
      "  (0, 2400)\t0.4689535663823655\n",
      "  (1, 1592)\t0.5594126567616489\n",
      "  (1, 5859)\t0.5964494866231046\n",
      "  (1, 6492)\t0.5755914257195885\n",
      "  (2, 300)\t0.16113294658934302\n",
      "  (2, 820)\t0.24488128414489752\n",
      "  (2, 6835)\t0.24488128414489752\n",
      "  (2, 5064)\t0.22967525805125708\n",
      "  (2, 7355)\t0.21568440262445418\n",
      "  (2, 682)\t0.22967525805125708\n",
      "  (2, 25)\t0.24488128414489752\n",
      "  (2, 2564)\t0.19505111090227498\n",
      "  (2, 798)\t0.24488128414489752\n",
      "  (2, 4393)\t0.24488128414489752\n",
      "  (2, 4520)\t0.24488128414489752\n",
      "  (2, 4519)\t0.24488128414489752\n",
      "  (2, 4084)\t0.2644704778405301\n",
      "  (2, 6828)\t0.13848562282513652\n",
      "  (2, 3252)\t0.18176623831152225\n",
      "  (2, 3695)\t0.21568440262445418\n",
      "  (2, 4522)\t0.2363176943466334\n",
      "  (2, 4089)\t0.2196593047164816\n",
      "  :\t:\n",
      "  (4120, 1223)\t0.5846719438819551\n",
      "  (4120, 6456)\t0.4751891362657192\n",
      "  (4120, 3181)\t0.4285103741434733\n",
      "  (4120, 3921)\t0.39220487670240334\n",
      "  (4120, 2101)\t0.30807173962343376\n",
      "  (4121, 5968)\t0.4786671802830861\n",
      "  (4121, 6283)\t0.4786671802830861\n",
      "  (4121, 2234)\t0.4017927559446723\n",
      "  (4121, 7093)\t0.30479406961757016\n",
      "  (4121, 1827)\t0.4699620412025258\n",
      "  (4121, 4064)\t0.25798119556428833\n",
      "  (4122, 5830)\t0.46450686818513914\n",
      "  (4122, 4342)\t0.4905868510580283\n",
      "  (4122, 6119)\t0.4868051225603611\n",
      "  (4122, 3818)\t0.31447423988339285\n",
      "  (4122, 3138)\t0.3215825654206297\n",
      "  (4122, 4105)\t0.32290755595687465\n",
      "  (4123, 5720)\t0.571842199779247\n",
      "  (4123, 1595)\t0.4589070366947927\n",
      "  (4123, 1264)\t0.3822287755202981\n",
      "  (4123, 7365)\t0.3402075943627085\n",
      "  (4123, 5192)\t0.4478401345634717\n",
      "  (4124, 7316)\t0.7095407247401689\n",
      "  (4124, 4681)\t0.5199862107431475\n",
      "  (4124, 6597)\t0.47556944873717305\n"
     ]
    }
   ],
   "source": [
    "print(X_train_features)"
   ]
  },
  {
   "cell_type": "code",
   "execution_count": 37,
   "metadata": {},
   "outputs": [
    {
     "name": "stdout",
     "output_type": "stream",
     "text": [
      "1786                   I dun believe u. I thk u told him.\n",
      "3576    And do you have any one that can teach me how ...\n",
      "420     Send a logo 2 ur lover - 2 names joined by a h...\n",
      "5156    Sir, I need Velusamy sir's date of birth and c...\n",
      "3354    I emailed yifeng my part oredi.. Can ü get it ...\n",
      "                              ...                        \n",
      "809          I am taking half day leave bec i am not well\n",
      "993     Up to ü... Ü wan come then come lor... But i d...\n",
      "1726    You know there is. I shall speak to you in  &l...\n",
      "3525    Yeah that'd pretty much be the best case scenario\n",
      "1748                     I think u have the wrong number.\n",
      "Name: Message, Length: 4125, dtype: object\n"
     ]
    }
   ],
   "source": [
    "print(X_train)"
   ]
  },
  {
   "cell_type": "code",
   "execution_count": 14,
   "metadata": {},
   "outputs": [
    {
     "name": "stdout",
     "output_type": "stream",
     "text": [
      "  (0, 5687)\t1\n",
      "  (0, 6888)\t3\n",
      "  (0, 7474)\t1\n",
      "  (0, 258)\t1\n",
      "  (0, 7396)\t1\n",
      "  (0, 7437)\t1\n",
      "  (0, 7471)\t1\n",
      "  (0, 6773)\t1\n",
      "  (0, 354)\t1\n",
      "  (0, 2805)\t1\n",
      "  (0, 7555)\t1\n",
      "  (0, 2106)\t1\n",
      "  (0, 1271)\t1\n",
      "  (0, 3364)\t1\n",
      "  (0, 5980)\t1\n",
      "  (0, 6460)\t1\n",
      "  (0, 694)\t1\n",
      "  (0, 2568)\t1\n",
      "  (0, 5999)\t1\n",
      "  (1, 7471)\t1\n",
      "  (1, 3369)\t1\n",
      "  (1, 6304)\t1\n",
      "  (1, 4854)\t1\n",
      "  (1, 4976)\t1\n",
      "  (1, 3603)\t1\n",
      "  :\t:\n",
      "  (4452, 7535)\t1\n",
      "  (4452, 2502)\t1\n",
      "  (4452, 7519)\t1\n",
      "  (4453, 1606)\t1\n",
      "  (4453, 6303)\t1\n",
      "  (4453, 4129)\t1\n",
      "  (4453, 3997)\t1\n",
      "  (4454, 2984)\t1\n",
      "  (4454, 3351)\t1\n",
      "  (4454, 5584)\t1\n",
      "  (4454, 5321)\t1\n",
      "  (4454, 6309)\t1\n",
      "  (4454, 6308)\t1\n",
      "  (4455, 6904)\t1\n",
      "  (4455, 4812)\t1\n",
      "  (4455, 3812)\t1\n",
      "  (4455, 5996)\t1\n",
      "  (4456, 3712)\t1\n",
      "  (4456, 3841)\t1\n",
      "  (4456, 2294)\t1\n",
      "  (4456, 3339)\t1\n",
      "  (4456, 5895)\t1\n",
      "  (4456, 6666)\t1\n",
      "  (4456, 6268)\t1\n",
      "  (4456, 4660)\t1\n"
     ]
    }
   ],
   "source": [
    "print(X_train)"
   ]
  },
  {
   "cell_type": "code",
   "execution_count": 44,
   "metadata": {},
   "outputs": [
    {
     "data": {
      "text/plain": [
       "1786    1\n",
       "3576    1\n",
       "420     0\n",
       "5156    1\n",
       "3354    1\n",
       "       ..\n",
       "809     1\n",
       "993     1\n",
       "1726    1\n",
       "3525    1\n",
       "1748    1\n",
       "Name: Category, Length: 4125, dtype: int32"
      ]
     },
     "execution_count": 44,
     "metadata": {},
     "output_type": "execute_result"
    }
   ],
   "source": [
    "Y_train"
   ]
  },
  {
   "cell_type": "markdown",
   "metadata": {},
   "source": [
    "**BUILDING MODEL**"
   ]
  },
  {
   "cell_type": "markdown",
   "metadata": {},
   "source": [
    "**DECISION TREE**"
   ]
  },
  {
   "cell_type": "code",
   "execution_count": 50,
   "metadata": {},
   "outputs": [],
   "source": [
    "# Create a DecisionTreeClassifier\n",
    "dt = DecisionTreeClassifier(random_state=42)\n",
    "dt.fit(X_train_features, Y_train)\n",
    "y_pred = dt.predict(X_test_features)\n",
    "\n"
   ]
  },
  {
   "cell_type": "code",
   "execution_count": 73,
   "metadata": {},
   "outputs": [
    {
     "name": "stdout",
     "output_type": "stream",
     "text": [
      "|--- feature_6828 <= 0.06\n",
      "|   |--- feature_1743 <= 0.07\n",
      "|   |   |--- feature_2866 <= 0.08\n",
      "|   |   |   |--- feature_7330 <= 0.07\n",
      "|   |   |   |   |--- feature_3867 <= 0.09\n",
      "|   |   |   |   |   |--- feature_4389 <= 0.06\n",
      "|   |   |   |   |   |   |--- feature_300 <= 0.08\n",
      "|   |   |   |   |   |   |   |--- feature_5804 <= 0.08\n",
      "|   |   |   |   |   |   |   |   |--- feature_630 <= 0.11\n",
      "|   |   |   |   |   |   |   |   |   |--- feature_5500 <= 0.11\n",
      "|   |   |   |   |   |   |   |   |   |   |--- feature_5358 <= 0.16\n",
      "|   |   |   |   |   |   |   |   |   |   |   |--- truncated branch of depth 56\n",
      "|   |   |   |   |   |   |   |   |   |   |--- feature_5358 >  0.16\n",
      "|   |   |   |   |   |   |   |   |   |   |   |--- truncated branch of depth 2\n",
      "|   |   |   |   |   |   |   |   |   |--- feature_5500 >  0.11\n",
      "|   |   |   |   |   |   |   |   |   |   |--- feature_6255 <= 0.07\n",
      "|   |   |   |   |   |   |   |   |   |   |   |--- truncated branch of depth 8\n",
      "|   |   |   |   |   |   |   |   |   |   |--- feature_6255 >  0.07\n",
      "|   |   |   |   |   |   |   |   |   |   |   |--- class: 0\n",
      "|   |   |   |   |   |   |   |   |--- feature_630 >  0.11\n",
      "|   |   |   |   |   |   |   |   |   |--- class: 0\n",
      "|   |   |   |   |   |   |   |--- feature_5804 >  0.08\n",
      "|   |   |   |   |   |   |   |   |--- feature_6301 <= 0.11\n",
      "|   |   |   |   |   |   |   |   |   |--- feature_2601 <= 0.18\n",
      "|   |   |   |   |   |   |   |   |   |   |--- class: 0\n",
      "|   |   |   |   |   |   |   |   |   |--- feature_2601 >  0.18\n",
      "|   |   |   |   |   |   |   |   |   |   |--- class: 1\n",
      "|   |   |   |   |   |   |   |   |--- feature_6301 >  0.11\n",
      "|   |   |   |   |   |   |   |   |   |--- class: 1\n",
      "|   |   |   |   |   |   |--- feature_300 >  0.08\n",
      "|   |   |   |   |   |   |   |--- class: 0\n",
      "|   |   |   |   |   |--- feature_4389 >  0.06\n",
      "|   |   |   |   |   |   |--- feature_4389 <= 0.22\n",
      "|   |   |   |   |   |   |   |--- feature_4174 <= 0.07\n",
      "|   |   |   |   |   |   |   |   |--- feature_4995 <= 0.09\n",
      "|   |   |   |   |   |   |   |   |   |--- feature_1916 <= 0.16\n",
      "|   |   |   |   |   |   |   |   |   |   |--- class: 0\n",
      "|   |   |   |   |   |   |   |   |   |--- feature_1916 >  0.16\n",
      "|   |   |   |   |   |   |   |   |   |   |--- class: 1\n",
      "|   |   |   |   |   |   |   |   |--- feature_4995 >  0.09\n",
      "|   |   |   |   |   |   |   |   |   |--- class: 1\n",
      "|   |   |   |   |   |   |   |--- feature_4174 >  0.07\n",
      "|   |   |   |   |   |   |   |   |--- class: 1\n",
      "|   |   |   |   |   |   |--- feature_4389 >  0.22\n",
      "|   |   |   |   |   |   |   |--- feature_1779 <= 0.17\n",
      "|   |   |   |   |   |   |   |   |--- feature_3730 <= 0.20\n",
      "|   |   |   |   |   |   |   |   |   |--- feature_2508 <= 0.23\n",
      "|   |   |   |   |   |   |   |   |   |   |--- class: 1\n",
      "|   |   |   |   |   |   |   |   |   |--- feature_2508 >  0.23\n",
      "|   |   |   |   |   |   |   |   |   |   |--- class: 0\n",
      "|   |   |   |   |   |   |   |   |--- feature_3730 >  0.20\n",
      "|   |   |   |   |   |   |   |   |   |--- class: 0\n",
      "|   |   |   |   |   |   |   |--- feature_1779 >  0.17\n",
      "|   |   |   |   |   |   |   |   |--- class: 0\n",
      "|   |   |   |   |--- feature_3867 >  0.09\n",
      "|   |   |   |   |   |--- class: 0\n",
      "|   |   |   |--- feature_7330 >  0.07\n",
      "|   |   |   |   |--- class: 0\n",
      "|   |   |--- feature_2866 >  0.08\n",
      "|   |   |   |--- feature_2866 <= 0.16\n",
      "|   |   |   |   |--- feature_1043 <= 0.09\n",
      "|   |   |   |   |   |--- feature_3942 <= 0.11\n",
      "|   |   |   |   |   |   |--- feature_7027 <= 0.12\n",
      "|   |   |   |   |   |   |   |--- class: 0\n",
      "|   |   |   |   |   |   |--- feature_7027 >  0.12\n",
      "|   |   |   |   |   |   |   |--- class: 1\n",
      "|   |   |   |   |   |--- feature_3942 >  0.11\n",
      "|   |   |   |   |   |   |--- class: 1\n",
      "|   |   |   |   |--- feature_1043 >  0.09\n",
      "|   |   |   |   |   |--- class: 1\n",
      "|   |   |   |--- feature_2866 >  0.16\n",
      "|   |   |   |   |--- feature_5500 <= 0.07\n",
      "|   |   |   |   |   |--- feature_6545 <= 0.08\n",
      "|   |   |   |   |   |   |--- feature_4634 <= 0.09\n",
      "|   |   |   |   |   |   |   |--- feature_6857 <= 0.09\n",
      "|   |   |   |   |   |   |   |   |--- feature_4389 <= 0.09\n",
      "|   |   |   |   |   |   |   |   |   |--- feature_5804 <= 0.16\n",
      "|   |   |   |   |   |   |   |   |   |   |--- feature_5788 <= 0.14\n",
      "|   |   |   |   |   |   |   |   |   |   |   |--- truncated branch of depth 2\n",
      "|   |   |   |   |   |   |   |   |   |   |--- feature_5788 >  0.14\n",
      "|   |   |   |   |   |   |   |   |   |   |   |--- class: 0\n",
      "|   |   |   |   |   |   |   |   |   |--- feature_5804 >  0.16\n",
      "|   |   |   |   |   |   |   |   |   |   |--- class: 0\n",
      "|   |   |   |   |   |   |   |   |--- feature_4389 >  0.09\n",
      "|   |   |   |   |   |   |   |   |   |--- feature_5221 <= 0.14\n",
      "|   |   |   |   |   |   |   |   |   |   |--- class: 0\n",
      "|   |   |   |   |   |   |   |   |   |--- feature_5221 >  0.14\n",
      "|   |   |   |   |   |   |   |   |   |   |--- class: 1\n",
      "|   |   |   |   |   |   |   |--- feature_6857 >  0.09\n",
      "|   |   |   |   |   |   |   |   |--- class: 0\n",
      "|   |   |   |   |   |   |--- feature_4634 >  0.09\n",
      "|   |   |   |   |   |   |   |--- class: 0\n",
      "|   |   |   |   |   |--- feature_6545 >  0.08\n",
      "|   |   |   |   |   |   |--- feature_7284 <= 0.13\n",
      "|   |   |   |   |   |   |   |--- feature_6612 <= 0.13\n",
      "|   |   |   |   |   |   |   |   |--- class: 0\n",
      "|   |   |   |   |   |   |   |--- feature_6612 >  0.13\n",
      "|   |   |   |   |   |   |   |   |--- class: 1\n",
      "|   |   |   |   |   |   |--- feature_7284 >  0.13\n",
      "|   |   |   |   |   |   |   |--- class: 1\n",
      "|   |   |   |   |--- feature_5500 >  0.07\n",
      "|   |   |   |   |   |--- feature_3730 <= 0.16\n",
      "|   |   |   |   |   |   |--- class: 0\n",
      "|   |   |   |   |   |--- feature_3730 >  0.16\n",
      "|   |   |   |   |   |   |--- feature_4302 <= 0.12\n",
      "|   |   |   |   |   |   |   |--- class: 1\n",
      "|   |   |   |   |   |   |--- feature_4302 >  0.12\n",
      "|   |   |   |   |   |   |   |--- class: 0\n",
      "|   |--- feature_1743 >  0.07\n",
      "|   |   |--- class: 0\n",
      "|--- feature_6828 >  0.06\n",
      "|   |--- feature_6828 <= 0.20\n",
      "|   |   |--- feature_6809 <= 0.15\n",
      "|   |   |   |--- class: 0\n",
      "|   |   |--- feature_6809 >  0.15\n",
      "|   |   |   |--- class: 1\n",
      "|   |--- feature_6828 >  0.20\n",
      "|   |   |--- feature_2866 <= 0.06\n",
      "|   |   |   |--- feature_300 <= 0.08\n",
      "|   |   |   |   |--- feature_7216 <= 0.09\n",
      "|   |   |   |   |   |--- feature_6281 <= 0.12\n",
      "|   |   |   |   |   |   |--- feature_2112 <= 0.13\n",
      "|   |   |   |   |   |   |   |--- class: 1\n",
      "|   |   |   |   |   |   |--- feature_2112 >  0.13\n",
      "|   |   |   |   |   |   |   |--- class: 0\n",
      "|   |   |   |   |   |--- feature_6281 >  0.12\n",
      "|   |   |   |   |   |   |--- class: 0\n",
      "|   |   |   |   |--- feature_7216 >  0.09\n",
      "|   |   |   |   |   |--- class: 0\n",
      "|   |   |   |--- feature_300 >  0.08\n",
      "|   |   |   |   |--- class: 0\n",
      "|   |   |--- feature_2866 >  0.06\n",
      "|   |   |   |--- class: 0\n",
      "\n"
     ]
    }
   ],
   "source": [
    "from sklearn import tree\n",
    "text_representation = tree.export_text(clf)\n",
    "print(text_representation)"
   ]
  },
  {
   "cell_type": "code",
   "execution_count": 51,
   "metadata": {},
   "outputs": [
    {
     "name": "stdout",
     "output_type": "stream",
     "text": [
      "Test Accuracy: 0.9525193798449613\n",
      "Classification Report:\n",
      "               precision    recall  f1-score   support\n",
      "\n",
      "           0       0.85      0.78      0.82       139\n",
      "           1       0.97      0.98      0.97       893\n",
      "\n",
      "    accuracy                           0.95      1032\n",
      "   macro avg       0.91      0.88      0.89      1032\n",
      "weighted avg       0.95      0.95      0.95      1032\n",
      "\n"
     ]
    }
   ],
   "source": [
    "accuracy = accuracy_score(Y_test, y_pred)\n",
    "print(\"Test Accuracy:\", accuracy)\n",
    "\n",
    "report = classification_report(Y_test, y_pred)\n",
    "print(\"Classification Report:\\n\", report)"
   ]
  },
  {
   "cell_type": "markdown",
   "metadata": {},
   "source": [
    "**LOGISITC REGRESSION**"
   ]
  },
  {
   "cell_type": "code",
   "execution_count": 58,
   "metadata": {},
   "outputs": [],
   "source": [
    "#LOGISITC REGRESSION\n",
    "model = LogisticRegression()"
   ]
  },
  {
   "cell_type": "code",
   "execution_count": 59,
   "metadata": {},
   "outputs": [],
   "source": [
    "model.fit(X_train_features, Y_train)\n",
    "y_pred1 = dt.predict(X_test_features)"
   ]
  },
  {
   "cell_type": "code",
   "execution_count": 60,
   "metadata": {},
   "outputs": [
    {
     "name": "stdout",
     "output_type": "stream",
     "text": [
      "Test Accuracy: 0.9525193798449613\n",
      "Classification Report:\n",
      "               precision    recall  f1-score   support\n",
      "\n",
      "           0       0.85      0.78      0.82       139\n",
      "           1       0.97      0.98      0.97       893\n",
      "\n",
      "    accuracy                           0.95      1032\n",
      "   macro avg       0.91      0.88      0.89      1032\n",
      "weighted avg       0.95      0.95      0.95      1032\n",
      "\n"
     ]
    }
   ],
   "source": [
    "accuracy = accuracy_score(Y_test, y_pred1)\n",
    "print(\"Test Accuracy:\", accuracy)\n",
    "\n",
    "report = classification_report(Y_test, y_pred1)\n",
    "print(\"Classification Report:\\n\", report)"
   ]
  },
  {
   "cell_type": "markdown",
   "metadata": {},
   "source": [
    "**NAIVE BAYES**"
   ]
  },
  {
   "cell_type": "code",
   "execution_count": 62,
   "metadata": {},
   "outputs": [],
   "source": [
    "#  Naive Bayes model\n",
    "modelnb = MultinomialNB()\n",
    "modelnb.fit(X_train_features,Y_train)\n",
    "y_pred2 = modelnb.predict(X_test_features)"
   ]
  },
  {
   "cell_type": "code",
   "execution_count": 63,
   "metadata": {},
   "outputs": [
    {
     "name": "stdout",
     "output_type": "stream",
     "text": [
      "Test Accuracy: 0.9602713178294574\n",
      "Classification Report:\n",
      "               precision    recall  f1-score   support\n",
      "\n",
      "           0       1.00      0.71      0.83       139\n",
      "           1       0.96      1.00      0.98       893\n",
      "\n",
      "    accuracy                           0.96      1032\n",
      "   macro avg       0.98      0.85      0.90      1032\n",
      "weighted avg       0.96      0.96      0.96      1032\n",
      "\n"
     ]
    }
   ],
   "source": [
    "accuracy = accuracy_score(Y_test, y_pred2)\n",
    "print(\"Test Accuracy:\", accuracy)\n",
    "\n",
    "report = classification_report(Y_test, y_pred2)\n",
    "print(\"Classification Report:\\n\", report)"
   ]
  },
  {
   "cell_type": "markdown",
   "metadata": {},
   "source": [
    "naive bayes has higher accuracy compared to decision tree and logisitic regression"
   ]
  }
 ],
 "metadata": {
  "kernelspec": {
   "display_name": "Python 3",
   "language": "python",
   "name": "python3"
  },
  "language_info": {
   "codemirror_mode": {
    "name": "ipython",
    "version": 3
   },
   "file_extension": ".py",
   "mimetype": "text/x-python",
   "name": "python",
   "nbconvert_exporter": "python",
   "pygments_lexer": "ipython3",
   "version": "3.11.1"
  },
  "orig_nbformat": 4
 },
 "nbformat": 4,
 "nbformat_minor": 2
}
